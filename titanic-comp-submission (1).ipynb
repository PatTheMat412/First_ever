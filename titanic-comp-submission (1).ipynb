{
 "cells": [
  {
   "cell_type": "code",
   "execution_count": 1,
   "id": "85c07b06",
   "metadata": {
    "_cell_guid": "b1076dfc-b9ad-4769-8c92-a6c4dae69d19",
    "_uuid": "8f2839f25d086af736a60e9eeb907d3b93b6e0e5",
    "execution": {
     "iopub.execute_input": "2025-08-15T17:53:44.344385Z",
     "iopub.status.busy": "2025-08-15T17:53:44.343415Z",
     "iopub.status.idle": "2025-08-15T17:53:46.472438Z",
     "shell.execute_reply": "2025-08-15T17:53:46.471483Z"
    },
    "papermill": {
     "duration": 2.134877,
     "end_time": "2025-08-15T17:53:46.474273",
     "exception": false,
     "start_time": "2025-08-15T17:53:44.339396",
     "status": "completed"
    },
    "tags": []
   },
   "outputs": [],
   "source": [
    "import numpy as np \n",
    "import pandas as pd \n",
    "\n",
    "\n",
    "\n",
    "submission_filepath = '/kaggle/input/titanic/gender_submission.csv'\n",
    "test_filepath = '/kaggle/input/titanic/test.csv'\n",
    "train_filepath = '/kaggle/input/titanic/train.csv'\n",
    "test_data_unmerged = pd.read_csv(test_filepath)\n",
    "train_data = pd.read_csv(train_filepath)\n",
    "submission = pd.read_csv(submission_filepath)\n",
    "\n",
    "test_data = pd.merge(test_data_unmerged, submission, on = 'PassengerId', how = 'inner')\n"
   ]
  },
  {
   "cell_type": "markdown",
   "id": "e2f369c6",
   "metadata": {
    "papermill": {
     "duration": 0.001747,
     "end_time": "2025-08-15T17:53:46.478634",
     "exception": false,
     "start_time": "2025-08-15T17:53:46.476887",
     "status": "completed"
    },
    "tags": []
   },
   "source": [
    "****Making Features and preparing data for classification model****"
   ]
  },
  {
   "cell_type": "code",
   "execution_count": 2,
   "id": "ea1d4ec8",
   "metadata": {
    "execution": {
     "iopub.execute_input": "2025-08-15T17:53:46.483810Z",
     "iopub.status.busy": "2025-08-15T17:53:46.483495Z",
     "iopub.status.idle": "2025-08-15T17:53:48.151245Z",
     "shell.execute_reply": "2025-08-15T17:53:48.150148Z"
    },
    "papermill": {
     "duration": 1.672567,
     "end_time": "2025-08-15T17:53:48.153193",
     "exception": false,
     "start_time": "2025-08-15T17:53:46.480626",
     "status": "completed"
    },
    "tags": []
   },
   "outputs": [],
   "source": [
    "from sklearn.preprocessing import OneHotEncoder\n",
    "from sklearn.compose import ColumnTransformer\n",
    "\n",
    "\n",
    "# Split features and target\n",
    "X_train = train_data.drop('Survived', axis=1)\n",
    "y_train = train_data['Survived']\n",
    "X_test = test_data.drop('Survived', axis=1)\n",
    "y_test = test_data['Survived']\n",
    "\n",
    "# Identify column types\n",
    "categorical_features = ['Sex', 'Pclass']\n",
    "numeric_features = ['Age', 'Fare']\n",
    "\n",
    "#preprocess data\n",
    "preprocessor = ColumnTransformer(\n",
    "    transformers=[\n",
    "        ('cat', OneHotEncoder(handle_unknown='ignore'), categorical_features),\n",
    "        ('num', 'passthrough', numeric_features)\n",
    "    ]\n",
    ")\n",
    "\n"
   ]
  },
  {
   "cell_type": "code",
   "execution_count": 3,
   "id": "6361920a",
   "metadata": {
    "execution": {
     "iopub.execute_input": "2025-08-15T17:53:48.159078Z",
     "iopub.status.busy": "2025-08-15T17:53:48.158599Z",
     "iopub.status.idle": "2025-08-15T17:53:48.792013Z",
     "shell.execute_reply": "2025-08-15T17:53:48.791301Z"
    },
    "papermill": {
     "duration": 0.638528,
     "end_time": "2025-08-15T17:53:48.793949",
     "exception": false,
     "start_time": "2025-08-15T17:53:48.155421",
     "status": "completed"
    },
    "tags": []
   },
   "outputs": [],
   "source": [
    "from xgboost import XGBClassifier\n",
    "from sklearn.pipeline import Pipeline\n",
    "\n",
    "#making model\n",
    "xgb_model = XGBClassifier(\n",
    "    n_estimators=200,     \n",
    "    learning_rate=0.1,    \n",
    "    max_depth=5,         \n",
    "    eval_metric='logloss',\n",
    "    use_label_encoder=False\n",
    ")\n",
    "\n",
    "\n",
    "pipeline = Pipeline(steps = [('preproscessing', preprocessor) ,\n",
    "                             ('model' , xgb_model)]\n",
    "                   )\n",
    "\n",
    "\n",
    "pipeline.fit(X_train, y_train)\n",
    "\n",
    "y_prediction = pipeline.predict(X_test)"
   ]
  },
  {
   "cell_type": "code",
   "execution_count": 4,
   "id": "a2b9f630",
   "metadata": {
    "execution": {
     "iopub.execute_input": "2025-08-15T17:53:48.800404Z",
     "iopub.status.busy": "2025-08-15T17:53:48.800065Z",
     "iopub.status.idle": "2025-08-15T17:53:48.807509Z",
     "shell.execute_reply": "2025-08-15T17:53:48.806452Z"
    },
    "papermill": {
     "duration": 0.012944,
     "end_time": "2025-08-15T17:53:48.809419",
     "exception": false,
     "start_time": "2025-08-15T17:53:48.796475",
     "status": "completed"
    },
    "tags": []
   },
   "outputs": [
    {
     "name": "stdout",
     "output_type": "stream",
     "text": [
      "0.8564593301435407\n"
     ]
    }
   ],
   "source": [
    "from sklearn.metrics import accuracy_score\n",
    "\n",
    "accuracy_score = accuracy_score(y_test, y_prediction)\n",
    "\n",
    "print(accuracy_score)"
   ]
  },
  {
   "cell_type": "code",
   "execution_count": 5,
   "id": "af76391e",
   "metadata": {
    "execution": {
     "iopub.execute_input": "2025-08-15T17:53:48.815166Z",
     "iopub.status.busy": "2025-08-15T17:53:48.814789Z",
     "iopub.status.idle": "2025-08-15T17:53:48.825581Z",
     "shell.execute_reply": "2025-08-15T17:53:48.824631Z"
    },
    "papermill": {
     "duration": 0.015468,
     "end_time": "2025-08-15T17:53:48.827287",
     "exception": false,
     "start_time": "2025-08-15T17:53:48.811819",
     "status": "completed"
    },
    "tags": []
   },
   "outputs": [],
   "source": [
    "submission = pd.DataFrame({'PasengerId': test_data.PassengerId, 'Survived' : y_prediction})\n",
    "\n",
    "submission.to_csv('submission.csv', index = False)\n",
    "\n"
   ]
  }
 ],
 "metadata": {
  "kaggle": {
   "accelerator": "none",
   "dataSources": [
    {
     "databundleVersionId": 26502,
     "sourceId": 3136,
     "sourceType": "competition"
    }
   ],
   "dockerImageVersionId": 31089,
   "isGpuEnabled": false,
   "isInternetEnabled": false,
   "language": "python",
   "sourceType": "notebook"
  },
  "kernelspec": {
   "display_name": "Python 3",
   "language": "python",
   "name": "python3"
  },
  "language_info": {
   "codemirror_mode": {
    "name": "ipython",
    "version": 3
   },
   "file_extension": ".py",
   "mimetype": "text/x-python",
   "name": "python",
   "nbconvert_exporter": "python",
   "pygments_lexer": "ipython3",
   "version": "3.11.13"
  },
  "papermill": {
   "default_parameters": {},
   "duration": 10.419892,
   "end_time": "2025-08-15T17:53:49.550755",
   "environment_variables": {},
   "exception": null,
   "input_path": "__notebook__.ipynb",
   "output_path": "__notebook__.ipynb",
   "parameters": {},
   "start_time": "2025-08-15T17:53:39.130863",
   "version": "2.6.0"
  }
 },
 "nbformat": 4,
 "nbformat_minor": 5
}
